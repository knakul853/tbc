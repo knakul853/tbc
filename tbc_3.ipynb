{
 "cells": [
  {
   "cell_type": "code",
   "execution_count": 2,
   "metadata": {},
   "outputs": [],
   "source": [
    "# Imports\n",
    "\n",
    "import numpy as np  # linear algebra\n",
    "import pandas as pd # data processing, CSV file I/O (e.g. pd.read_csv)\n",
    "\n",
    "import os\n",
    "import shutil # high-level operations on files\n",
    "from tqdm import tqdm # Progress bar and status logging\n",
    "from sklearn.utils import shuffle\n",
    "from sklearn.model_selection import GridSearchCV\n",
    "from sklearn.metrics import classification_report,confusion_matrix\n",
    "\n",
    "import cv2 # computer vision algorithms\n",
    "\n",
    "# Importing the Keras libraries and packages\n",
    "from keras import utils\n",
    "from keras.wrappers.scikit_learn import KerasClassifier\n",
    "from keras.models import Sequential\n",
    "from keras.layers import Conv2D\n",
    "from keras.layers import MaxPooling2D\n",
    "from keras.layers import Flatten\n",
    "from keras.layers import Dense\n",
    "from keras.layers import Dropout"
   ]
  },
  {
   "cell_type": "code",
   "execution_count": 6,
   "metadata": {},
   "outputs": [],
   "source": [
    "# Configuration\n",
    "\n",
    "DATASET_DIR = '/home/knakul853/Desktop/ml/real_and_fake_face'\n",
    "TRAIN_DIR = '/home/knakul853/Desktop/ml/train_dataset'\n",
    "TEST_DIR = '/home/knakul853/Desktop/ml/test_dataset'\n",
    "\n",
    "RATE = 0.2 # splitting proportion for training and test datasets\n",
    "\n",
    "# Parameters for Grid Search\n",
    "\n",
    "N_EPOCHS = [20] #[20, 40, 100, 200]\n",
    "OPTIMIZERS = ['adam'] #['adam', 'rmsprop', 'SGD']\n",
    "DROPOUT_RATES =  [0.1, 0.2, 0.4]\n",
    "LOSS_FUNCTIONS = ['binary_crossentropy']  #['sparse_categorical_crossentropy', 'kullback_leibler_divergence']\n",
    "\n",
    "# os.mkdir(TRAIN_DIR)\n",
    "# os.mkdir(TRAIN_DIR+'/fake')\n",
    "# os.mkdir(TRAIN_DIR+'/real')\n",
    "\n",
    "os.mkdir(TEST_DIR)\n",
    "os.mkdir(TEST_DIR+'/fake')\n",
    "os.mkdir(TEST_DIR+'/real')"
   ]
  },
  {
   "cell_type": "code",
   "execution_count": 7,
   "metadata": {},
   "outputs": [],
   "source": [
    "import split_folders"
   ]
  },
  {
   "cell_type": "code",
   "execution_count": 10,
   "metadata": {},
   "outputs": [],
   "source": [
    "files_real = os.listdir(f'{DATASET_DIR}/training_real')\n",
    "files_fake = os.listdir(f'{DATASET_DIR}/training_fake')"
   ]
  },
  {
   "cell_type": "code",
   "execution_count": 13,
   "metadata": {},
   "outputs": [],
   "source": [
    "# sample from each class to create a test set\n",
    "np.random.seed(0)\n",
    "files_real_test = np.random.choice(\n",
    "    files_real,\n",
    "    size=round(len(files_real) * RATE),\n",
    "    replace=False,\n",
    "    p=None)\n",
    "\n",
    "files_real_train = list(set(files_real) - set(files_real_test)) #[file for file in files_real if file not in files_real_test] \n",
    "\n",
    "files_fake_test = np.random.choice(\n",
    "    files_fake,\n",
    "    size=round(len(files_fake) * RATE),\n",
    "    replace=False,\n",
    "    p=None)\n",
    "\n",
    "files_fake_train = list(set(files_fake) - set(files_fake_test)) #[file for file in files_fake if file not in files_fake_test] \n",
    "\n",
    "for file in files_real_train:\n",
    "    shutil.copyfile(DATASET_DIR+'/training_real/'+file, TRAIN_DIR+'/real/'+file) \n",
    "\n",
    "for file in files_fake_train:\n",
    "    shutil.copyfile(DATASET_DIR+'/training_fake/'+file, TRAIN_DIR+'/fake/'+file) \n",
    "\n",
    "for file in files_real_test:\n",
    "    shutil.copyfile(DATASET_DIR+'/training_real/'+file, TEST_DIR+'/real/'+file) \n",
    "\n",
    "for file in files_fake_test:\n",
    "    shutil.copyfile(DATASET_DIR+'/training_fake/'+file, TEST_DIR+'/fake/'+file) "
   ]
  },
  {
   "cell_type": "code",
   "execution_count": 14,
   "metadata": {},
   "outputs": [
    {
     "name": "stdout",
     "output_type": "stream",
     "text": [
      "Number of training images: 2358 \n",
      "Number of test images: 590\n"
     ]
    }
   ],
   "source": [
    "train_samples = sum([len(files) for r, d, files in os.walk(TRAIN_DIR)])\n",
    "test_samples = sum([len(files) for r, d, files in os.walk(TEST_DIR)])\n",
    "print('Number of training images: {} \\nNumber of test images: {}'.format(train_samples, test_samples))"
   ]
  },
  {
   "cell_type": "code",
   "execution_count": 31,
   "metadata": {},
   "outputs": [],
   "source": [
    "# todo : normalize image\n",
    "def get_images(path, img_shape=(64, 64)):\n",
    " \n",
    "    '''\n",
    "    Returns a np array of images and labels from path\n",
    "    Images must be stored in path/class1, path/class2\n",
    "    '''\n",
    "    \n",
    "    main_path = path\n",
    "    k = 0\n",
    "    print(main_path)\n",
    "    y = []\n",
    "    list = [name for name in os.listdir(main_path) if os.path.isdir(os.path.join(main_path, name))]\n",
    "    print(list)\n",
    "    image_collection = []\n",
    "    for idx,folder in enumerate(list):\n",
    " \n",
    "        label = idx\n",
    "        \n",
    "        sub_list = sorted(os.listdir(os.path.join(main_path,folder)))\n",
    " \n",
    "        for i in tqdm(range(1, len(sub_list))):\n",
    "            image_path = os.path.join(main_path, folder, sub_list[i])\n",
    "            try:\n",
    "                read_image = cv2.imread(image_path)\n",
    "                assert not isinstance(read_image, type(None)), 'image not found'\n",
    "                \n",
    "#                scale_percent = 60 # percent of original size\n",
    "#                 width = int(read_image.shape[1] * scale_percent / 100)\n",
    "#                 height = int(read_image.shape[0] * scale_percent / 100)\n",
    "#                 img_shape = (width, height)\n",
    "                \n",
    "                image_resized = cv2.resize(read_image, img_shape, interpolation=cv2.INTER_AREA)\n",
    "\n",
    "                image = np.float32(image_resized)\n",
    "                image = cv2.normalize(image, None, alpha=0, beta=1, norm_type=cv2.NORM_MINMAX, dtype=cv2.CV_32F) #Change alpha, beta according to the preprocessing you desire\n",
    "\n",
    "                image_collection.append(image)\n",
    "\n",
    "                y.append(label)  # for now just skip the errors \n",
    "            except Exception as e:\n",
    "                print(e)\n",
    " \n",
    "    y = np.array(y)\n",
    "    y = utils.to_categorical(y,num_classes=len(list))\n",
    " \n",
    "    return image_collection, y[:,0]"
   ]
  },
  {
   "cell_type": "code",
   "execution_count": 32,
   "metadata": {},
   "outputs": [
    {
     "name": "stderr",
     "output_type": "stream",
     "text": [
      "\r",
      "  0%|          | 0/323 [00:00<?, ?it/s]"
     ]
    },
    {
     "name": "stdout",
     "output_type": "stream",
     "text": [
      "/home/knakul853/Desktop/ml/train_dataset\n",
      "['real', 'fake']\n"
     ]
    },
    {
     "name": "stderr",
     "output_type": "stream",
     "text": [
      "100%|██████████| 323/323 [00:06<00:00, 52.51it/s]\n",
      "100%|██████████| 2033/2033 [01:00<00:00, 33.50it/s]\n",
      "  9%|▉         | 7/80 [00:00<00:01, 63.34it/s]"
     ]
    },
    {
     "name": "stdout",
     "output_type": "stream",
     "text": [
      "/home/knakul853/Desktop/ml/test_dataset\n",
      "['real', 'fake']\n"
     ]
    },
    {
     "name": "stderr",
     "output_type": "stream",
     "text": [
      "100%|██████████| 80/80 [00:01<00:00, 49.68it/s]\n",
      "100%|██████████| 508/508 [00:11<00:00, 44.44it/s]\n"
     ]
    }
   ],
   "source": [
    "# Preparing test and trainng datasets\n",
    "X_train,y_train = get_images(TRAIN_DIR,img_shape=(64,64))\n",
    "X_test,y_test = get_images(TEST_DIR,img_shape=(64,64))\n",
    "X_train = np.array(X_train)\n",
    "X_test = np.array(X_test)\n",
    "\n",
    "#todo : handle this skiped data."
   ]
  },
  {
   "cell_type": "code",
   "execution_count": 36,
   "metadata": {},
   "outputs": [],
   "source": []
  },
  {
   "cell_type": "code",
   "execution_count": 33,
   "metadata": {
    "scrolled": true
   },
   "outputs": [
    {
     "name": "stdout",
     "output_type": "stream",
     "text": [
      "Training set (2356, 64, 64, 3)\n",
      "Test set (588, 64, 64, 3)\n"
     ]
    }
   ],
   "source": [
    "print('Training set', X_train.shape)\n",
    "print('Test set', X_test.shape)"
   ]
  },
  {
   "cell_type": "code",
   "execution_count": 35,
   "metadata": {},
   "outputs": [],
   "source": [
    "#Shuffle training examples\n",
    "y_train = np.array(y_train)\n",
    "y_test = np.array(y_test)\n",
    "X_train = np.array(X_train)\n",
    "y_test = np.array(y_test)\n",
    "X_train, y_train = shuffle(X_train, y_train)\n"
   ]
  },
  {
   "cell_type": "code",
   "execution_count": 36,
   "metadata": {},
   "outputs": [
    {
     "name": "stdout",
     "output_type": "stream",
     "text": [
      "Epoch 1/20\n",
      "1178/1178 [==============================] - 5s 4ms/step - loss: 0.3868 - accuracy: 0.8540\n",
      "Epoch 2/20\n",
      "1178/1178 [==============================] - 3s 2ms/step - loss: 0.3346 - accuracy: 0.8548\n",
      "Epoch 3/20\n",
      "1178/1178 [==============================] - 3s 3ms/step - loss: 0.2957 - accuracy: 0.8684\n",
      "Epoch 4/20\n",
      "1178/1178 [==============================] - 3s 2ms/step - loss: 0.2703 - accuracy: 0.8752\n",
      "Epoch 5/20\n",
      "1178/1178 [==============================] - 3s 2ms/step - loss: 0.2247 - accuracy: 0.9134\n",
      "Epoch 6/20\n",
      "1178/1178 [==============================] - 3s 2ms/step - loss: 0.1971 - accuracy: 0.9253\n",
      "Epoch 7/20\n",
      "1178/1178 [==============================] - 3s 2ms/step - loss: 0.1725 - accuracy: 0.9372\n",
      "Epoch 8/20\n",
      "1178/1178 [==============================] - 3s 2ms/step - loss: 0.1204 - accuracy: 0.9559\n",
      "Epoch 9/20\n",
      "1178/1178 [==============================] - 3s 2ms/step - loss: 0.1227 - accuracy: 0.9499\n",
      "Epoch 10/20\n",
      "1178/1178 [==============================] - 3s 3ms/step - loss: 0.1304 - accuracy: 0.9457\n",
      "Epoch 11/20\n",
      "1178/1178 [==============================] - 3s 2ms/step - loss: 0.1274 - accuracy: 0.9448\n",
      "Epoch 12/20\n",
      "1178/1178 [==============================] - 3s 2ms/step - loss: 0.1136 - accuracy: 0.9542\n",
      "Epoch 13/20\n",
      "1178/1178 [==============================] - 3s 2ms/step - loss: 0.0844 - accuracy: 0.9660\n",
      "Epoch 14/20\n",
      "1178/1178 [==============================] - 3s 2ms/step - loss: 0.0588 - accuracy: 0.9779\n",
      "Epoch 15/20\n",
      "1178/1178 [==============================] - 3s 2ms/step - loss: 0.0458 - accuracy: 0.9864\n",
      "Epoch 16/20\n",
      "1178/1178 [==============================] - 3s 2ms/step - loss: 0.0788 - accuracy: 0.9728\n",
      "Epoch 17/20\n",
      "1178/1178 [==============================] - 3s 3ms/step - loss: 0.0358 - accuracy: 0.9898\n",
      "Epoch 18/20\n",
      "1178/1178 [==============================] - 3s 2ms/step - loss: 0.0363 - accuracy: 0.9907\n",
      "Epoch 19/20\n",
      "1178/1178 [==============================] - 3s 2ms/step - loss: 0.0443 - accuracy: 0.9830\n",
      "Epoch 20/20\n",
      "1178/1178 [==============================] - 3s 2ms/step - loss: 0.0442 - accuracy: 0.9864\n",
      "Epoch 1/20\n",
      "1178/1178 [==============================] - 3s 2ms/step - loss: 0.3805 - accuracy: 0.8472\n",
      "Epoch 2/20\n",
      "1178/1178 [==============================] - 3s 2ms/step - loss: 0.3241 - accuracy: 0.8710\n",
      "Epoch 3/20\n",
      "1178/1178 [==============================] - 3s 2ms/step - loss: 0.2860 - accuracy: 0.8710\n",
      "Epoch 4/20\n",
      "1178/1178 [==============================] - 3s 2ms/step - loss: 0.2817 - accuracy: 0.8710\n",
      "Epoch 5/20\n",
      "1178/1178 [==============================] - 3s 3ms/step - loss: 0.2515 - accuracy: 0.8735\n",
      "Epoch 6/20\n",
      "1178/1178 [==============================] - 3s 2ms/step - loss: 0.2362 - accuracy: 0.8956\n",
      "Epoch 7/20\n",
      "1178/1178 [==============================] - 3s 3ms/step - loss: 0.2190 - accuracy: 0.9219\n",
      "Epoch 8/20\n",
      "1178/1178 [==============================] - 3s 2ms/step - loss: 0.1802 - accuracy: 0.9312\n",
      "Epoch 9/20\n",
      "1178/1178 [==============================] - 3s 2ms/step - loss: 0.1450 - accuracy: 0.9397\n",
      "Epoch 10/20\n",
      "1178/1178 [==============================] - 3s 2ms/step - loss: 0.1209 - accuracy: 0.9593\n",
      "Epoch 11/20\n",
      "1178/1178 [==============================] - 3s 2ms/step - loss: 0.1263 - accuracy: 0.9482\n",
      "Epoch 12/20\n",
      "1178/1178 [==============================] - 3s 2ms/step - loss: 0.1223 - accuracy: 0.9576\n",
      "Epoch 13/20\n",
      "1178/1178 [==============================] - 3s 3ms/step - loss: 0.1262 - accuracy: 0.9508\n",
      "Epoch 14/20\n",
      "1178/1178 [==============================] - 3s 3ms/step - loss: 0.1002 - accuracy: 0.9626\n",
      "Epoch 15/20\n",
      "1178/1178 [==============================] - 3s 3ms/step - loss: 0.0942 - accuracy: 0.9601\n",
      "Epoch 16/20\n",
      "1178/1178 [==============================] - 3s 3ms/step - loss: 0.0662 - accuracy: 0.9788\n",
      "Epoch 17/20\n",
      "1178/1178 [==============================] - 3s 3ms/step - loss: 0.0598 - accuracy: 0.9779\n",
      "Epoch 18/20\n",
      "1178/1178 [==============================] - 3s 3ms/step - loss: 0.0849 - accuracy: 0.9660\n",
      "Epoch 19/20\n",
      "1178/1178 [==============================] - 4s 3ms/step - loss: 0.0745 - accuracy: 0.9703\n",
      "Epoch 20/20\n",
      "1178/1178 [==============================] - 3s 3ms/step - loss: 0.0519 - accuracy: 0.9813\n",
      "Epoch 1/20\n",
      "1178/1178 [==============================] - 4s 3ms/step - loss: 0.3949 - accuracy: 0.8548\n",
      "Epoch 2/20\n",
      "1178/1178 [==============================] - 3s 3ms/step - loss: 0.3407 - accuracy: 0.8548\n",
      "Epoch 3/20\n",
      "1178/1178 [==============================] - 3s 3ms/step - loss: 0.3167 - accuracy: 0.8548\n",
      "Epoch 4/20\n",
      "1178/1178 [==============================] - 3s 3ms/step - loss: 0.2889 - accuracy: 0.8608\n",
      "Epoch 5/20\n",
      "1178/1178 [==============================] - 3s 3ms/step - loss: 0.2622 - accuracy: 0.8862\n",
      "Epoch 6/20\n",
      "1178/1178 [==============================] - 3s 3ms/step - loss: 0.2335 - accuracy: 0.8998\n",
      "Epoch 7/20\n",
      "1178/1178 [==============================] - 3s 3ms/step - loss: 0.2071 - accuracy: 0.9134\n",
      "Epoch 8/20\n",
      "1178/1178 [==============================] - 3s 3ms/step - loss: 0.1879 - accuracy: 0.9278\n",
      "Epoch 9/20\n",
      "1178/1178 [==============================] - 3s 3ms/step - loss: 0.1790 - accuracy: 0.9261\n",
      "Epoch 10/20\n",
      "1178/1178 [==============================] - 3s 3ms/step - loss: 0.1649 - accuracy: 0.9380\n",
      "Epoch 11/20\n",
      "1178/1178 [==============================] - 3s 3ms/step - loss: 0.1185 - accuracy: 0.9508\n",
      "Epoch 12/20\n",
      "1178/1178 [==============================] - 3s 3ms/step - loss: 0.1449 - accuracy: 0.9465\n",
      "Epoch 13/20\n",
      "1178/1178 [==============================] - 3s 3ms/step - loss: 0.0974 - accuracy: 0.9610\n",
      "Epoch 14/20\n",
      "1178/1178 [==============================] - 3s 3ms/step - loss: 0.1089 - accuracy: 0.9567\n",
      "Epoch 15/20\n",
      "1178/1178 [==============================] - 3s 3ms/step - loss: 0.0805 - accuracy: 0.9652\n",
      "Epoch 16/20\n",
      "1178/1178 [==============================] - 3s 3ms/step - loss: 0.0765 - accuracy: 0.9677\n",
      "Epoch 17/20\n",
      "1178/1178 [==============================] - 3s 3ms/step - loss: 0.0888 - accuracy: 0.9694\n",
      "Epoch 18/20\n",
      "1178/1178 [==============================] - 3s 3ms/step - loss: 0.0736 - accuracy: 0.9745\n",
      "Epoch 19/20\n",
      "1178/1178 [==============================] - 3s 3ms/step - loss: 0.0727 - accuracy: 0.9771\n",
      "Epoch 20/20\n",
      "1178/1178 [==============================] - 3s 3ms/step - loss: 0.0720 - accuracy: 0.9771\n",
      "Epoch 1/20\n",
      "1178/1178 [==============================] - 4s 3ms/step - loss: 0.3981 - accuracy: 0.8506\n",
      "Epoch 2/20\n",
      "1178/1178 [==============================] - 4s 3ms/step - loss: 0.3289 - accuracy: 0.8710\n",
      "Epoch 3/20\n",
      "1178/1178 [==============================] - 4s 3ms/step - loss: 0.3067 - accuracy: 0.8710\n",
      "Epoch 4/20\n",
      "1178/1178 [==============================] - 3s 3ms/step - loss: 0.2825 - accuracy: 0.8710\n",
      "Epoch 5/20\n",
      "1178/1178 [==============================] - 3s 3ms/step - loss: 0.2760 - accuracy: 0.8761\n",
      "Epoch 6/20\n",
      "1178/1178 [==============================] - 3s 3ms/step - loss: 0.2445 - accuracy: 0.8888\n",
      "Epoch 7/20\n",
      "1178/1178 [==============================] - 3s 3ms/step - loss: 0.2116 - accuracy: 0.9160\n",
      "Epoch 8/20\n",
      "1178/1178 [==============================] - 3s 3ms/step - loss: 0.1946 - accuracy: 0.9236\n",
      "Epoch 9/20\n",
      "1178/1178 [==============================] - 3s 3ms/step - loss: 0.1741 - accuracy: 0.9312\n",
      "Epoch 10/20\n",
      "1178/1178 [==============================] - 3s 3ms/step - loss: 0.1415 - accuracy: 0.9508\n",
      "Epoch 11/20\n",
      "1178/1178 [==============================] - 3s 3ms/step - loss: 0.1280 - accuracy: 0.9508\n",
      "Epoch 12/20\n",
      "1178/1178 [==============================] - 3s 3ms/step - loss: 0.1152 - accuracy: 0.9593\n",
      "Epoch 13/20\n",
      "1178/1178 [==============================] - 3s 3ms/step - loss: 0.1247 - accuracy: 0.9525\n",
      "Epoch 14/20\n",
      "1178/1178 [==============================] - 3s 3ms/step - loss: 0.0946 - accuracy: 0.9643\n",
      "Epoch 15/20\n",
      "1178/1178 [==============================] - 3s 3ms/step - loss: 0.0797 - accuracy: 0.9694\n",
      "Epoch 16/20\n",
      "1178/1178 [==============================] - 3s 3ms/step - loss: 0.0948 - accuracy: 0.9601\n",
      "Epoch 17/20\n",
      "1178/1178 [==============================] - 3s 3ms/step - loss: 0.0879 - accuracy: 0.9618\n",
      "Epoch 18/20\n",
      "1178/1178 [==============================] - 3s 3ms/step - loss: 0.0775 - accuracy: 0.9686\n",
      "Epoch 19/20\n",
      "1178/1178 [==============================] - 3s 3ms/step - loss: 0.0591 - accuracy: 0.9771\n",
      "Epoch 20/20\n",
      "1178/1178 [==============================] - 3s 3ms/step - loss: 0.0652 - accuracy: 0.9745\n",
      "Epoch 1/20\n",
      "1178/1178 [==============================] - 4s 3ms/step - loss: 0.4134 - accuracy: 0.8396\n",
      "Epoch 2/20\n",
      "1178/1178 [==============================] - 3s 3ms/step - loss: 0.3662 - accuracy: 0.8548\n",
      "Epoch 3/20\n",
      "1178/1178 [==============================] - 3s 3ms/step - loss: 0.3410 - accuracy: 0.8548\n",
      "Epoch 4/20\n",
      "1178/1178 [==============================] - 3s 3ms/step - loss: 0.3306 - accuracy: 0.8548\n",
      "Epoch 5/20\n",
      "1178/1178 [==============================] - 3s 3ms/step - loss: 0.3067 - accuracy: 0.8548\n",
      "Epoch 6/20\n",
      "1178/1178 [==============================] - 3s 3ms/step - loss: 0.2997 - accuracy: 0.8616\n",
      "Epoch 7/20\n",
      "1178/1178 [==============================] - 3s 3ms/step - loss: 0.2638 - accuracy: 0.8778\n",
      "Epoch 8/20\n",
      "1178/1178 [==============================] - 3s 3ms/step - loss: 0.2480 - accuracy: 0.9015\n",
      "Epoch 9/20\n",
      "1178/1178 [==============================] - 3s 3ms/step - loss: 0.2479 - accuracy: 0.8990\n",
      "Epoch 10/20\n",
      "1178/1178 [==============================] - 3s 3ms/step - loss: 0.2094 - accuracy: 0.9109\n",
      "Epoch 11/20\n",
      "1178/1178 [==============================] - 3s 3ms/step - loss: 0.1953 - accuracy: 0.9143\n",
      "Epoch 12/20\n",
      "1178/1178 [==============================] - 4s 3ms/step - loss: 0.1767 - accuracy: 0.9304\n",
      "Epoch 13/20\n",
      "1178/1178 [==============================] - 3s 3ms/step - loss: 0.1699 - accuracy: 0.9363\n",
      "Epoch 14/20\n",
      "1178/1178 [==============================] - 4s 3ms/step - loss: 0.1544 - accuracy: 0.9346\n",
      "Epoch 15/20\n",
      "1178/1178 [==============================] - 3s 2ms/step - loss: 0.1432 - accuracy: 0.9355\n",
      "Epoch 16/20\n",
      "1178/1178 [==============================] - 3s 3ms/step - loss: 0.1677 - accuracy: 0.9338\n",
      "Epoch 17/20\n",
      "1178/1178 [==============================] - 3s 3ms/step - loss: 0.1469 - accuracy: 0.9406\n",
      "Epoch 18/20\n",
      "1178/1178 [==============================] - 3s 3ms/step - loss: 0.1058 - accuracy: 0.9559\n",
      "Epoch 19/20\n",
      "1178/1178 [==============================] - 3s 3ms/step - loss: 0.1158 - accuracy: 0.9542\n",
      "Epoch 20/20\n",
      "1178/1178 [==============================] - 3s 2ms/step - loss: 0.1030 - accuracy: 0.9635\n",
      "Epoch 1/20\n",
      "1178/1178 [==============================] - 3s 3ms/step - loss: 0.3888 - accuracy: 0.8608\n",
      "Epoch 2/20\n",
      "1178/1178 [==============================] - 3s 2ms/step - loss: 0.3420 - accuracy: 0.8710\n",
      "Epoch 3/20\n",
      "1178/1178 [==============================] - 3s 2ms/step - loss: 0.3241 - accuracy: 0.8710\n",
      "Epoch 4/20\n",
      "1178/1178 [==============================] - 3s 2ms/step - loss: 0.3079 - accuracy: 0.8710\n",
      "Epoch 5/20\n",
      "1178/1178 [==============================] - 3s 2ms/step - loss: 0.2820 - accuracy: 0.8710\n",
      "Epoch 6/20\n",
      "1178/1178 [==============================] - 3s 2ms/step - loss: 0.2655 - accuracy: 0.8727\n",
      "Epoch 7/20\n",
      "1178/1178 [==============================] - 3s 2ms/step - loss: 0.2362 - accuracy: 0.8888\n",
      "Epoch 8/20\n",
      "1178/1178 [==============================] - 3s 2ms/step - loss: 0.2338 - accuracy: 0.9049\n",
      "Epoch 9/20\n",
      "1178/1178 [==============================] - 3s 2ms/step - loss: 0.1950 - accuracy: 0.9261\n",
      "Epoch 10/20\n",
      "1178/1178 [==============================] - 3s 2ms/step - loss: 0.1617 - accuracy: 0.9423\n",
      "Epoch 11/20\n",
      "1178/1178 [==============================] - 3s 2ms/step - loss: 0.1689 - accuracy: 0.9338\n",
      "Epoch 12/20\n",
      "1178/1178 [==============================] - 3s 2ms/step - loss: 0.1458 - accuracy: 0.9516\n",
      "Epoch 13/20\n",
      "1178/1178 [==============================] - 3s 2ms/step - loss: 0.1349 - accuracy: 0.9440\n",
      "Epoch 14/20\n",
      "1178/1178 [==============================] - 3s 2ms/step - loss: 0.1340 - accuracy: 0.9491\n",
      "Epoch 15/20\n",
      "1178/1178 [==============================] - 3s 2ms/step - loss: 0.0909 - accuracy: 0.9643\n",
      "Epoch 16/20\n",
      "1178/1178 [==============================] - 3s 2ms/step - loss: 0.1154 - accuracy: 0.9542\n",
      "Epoch 17/20\n",
      "1178/1178 [==============================] - 3s 2ms/step - loss: 0.1526 - accuracy: 0.9406\n",
      "Epoch 18/20\n",
      "1178/1178 [==============================] - 3s 2ms/step - loss: 0.0877 - accuracy: 0.9686\n",
      "Epoch 19/20\n",
      "1178/1178 [==============================] - 3s 2ms/step - loss: 0.0826 - accuracy: 0.9669\n",
      "Epoch 20/20\n",
      "1178/1178 [==============================] - 3s 2ms/step - loss: 0.0824 - accuracy: 0.9686\n",
      "Epoch 1/20\n",
      "2356/2356 [==============================] - 6s 3ms/step - loss: 0.3684 - accuracy: 0.8608\n",
      "Epoch 2/20\n",
      "2356/2356 [==============================] - 6s 2ms/step - loss: 0.3122 - accuracy: 0.8629\n",
      "Epoch 3/20\n",
      "2356/2356 [==============================] - 6s 2ms/step - loss: 0.2620 - accuracy: 0.8790\n",
      "Epoch 4/20\n",
      "2356/2356 [==============================] - 6s 2ms/step - loss: 0.2186 - accuracy: 0.9079\n",
      "Epoch 5/20\n",
      "2356/2356 [==============================] - 6s 3ms/step - loss: 0.1565 - accuracy: 0.9389\n",
      "Epoch 6/20\n",
      "2356/2356 [==============================] - 6s 2ms/step - loss: 0.1310 - accuracy: 0.9508\n",
      "Epoch 7/20\n",
      "2356/2356 [==============================] - 6s 2ms/step - loss: 0.1110 - accuracy: 0.9559\n",
      "Epoch 8/20\n",
      "2356/2356 [==============================] - 5s 2ms/step - loss: 0.0863 - accuracy: 0.9690\n",
      "Epoch 9/20\n",
      "2356/2356 [==============================] - 5s 2ms/step - loss: 0.0838 - accuracy: 0.9686\n",
      "Epoch 10/20\n",
      "2356/2356 [==============================] - 5s 2ms/step - loss: 0.0668 - accuracy: 0.9745\n",
      "Epoch 11/20\n",
      "2356/2356 [==============================] - 6s 2ms/step - loss: 0.0564 - accuracy: 0.9796\n",
      "Epoch 12/20\n",
      "2356/2356 [==============================] - 6s 2ms/step - loss: 0.0556 - accuracy: 0.9775\n",
      "Epoch 13/20\n",
      "2356/2356 [==============================] - 6s 2ms/step - loss: 0.0527 - accuracy: 0.9817\n",
      "Epoch 14/20\n",
      "2356/2356 [==============================] - 5s 2ms/step - loss: 0.0344 - accuracy: 0.9864\n",
      "Epoch 15/20\n",
      "2356/2356 [==============================] - 5s 2ms/step - loss: 0.0435 - accuracy: 0.9834\n",
      "Epoch 16/20\n",
      "2356/2356 [==============================] - 6s 2ms/step - loss: 0.0290 - accuracy: 0.9885\n",
      "Epoch 17/20\n",
      "2356/2356 [==============================] - 5s 2ms/step - loss: 0.0470 - accuracy: 0.9822\n",
      "Epoch 18/20\n",
      "2356/2356 [==============================] - 6s 2ms/step - loss: 0.0195 - accuracy: 0.9941\n",
      "Epoch 19/20\n",
      "2356/2356 [==============================] - 6s 2ms/step - loss: 0.0152 - accuracy: 0.9945\n",
      "Epoch 20/20\n",
      "2356/2356 [==============================] - 5s 2ms/step - loss: 0.0401 - accuracy: 0.9843\n"
     ]
    }
   ],
   "source": [
    "#source towards data sceince\n",
    "def build_classifier(optimizer, dropout, loss):\n",
    "    classifier = Sequential() # Initialising the CNN    \n",
    "    classifier.add(Conv2D(32, (3, 3), input_shape = (64, 64, 3), activation = 'relu')) \n",
    "    classifier.add(MaxPooling2D(pool_size = (2, 2))) \n",
    "    classifier.add(Dropout(dropout))\n",
    "    classifier.add(Conv2D(32, (3, 3), activation = 'relu'))  \n",
    "    classifier.add(MaxPooling2D(pool_size = (2, 2)))\n",
    "    classifier.add(Dropout(dropout))\n",
    "    classifier.add(Conv2D(32, (3, 3), activation = 'relu'))  \n",
    "    classifier.add(MaxPooling2D(pool_size = (2, 2)))\n",
    "    classifier.add(Dropout(dropout))\n",
    "    classifier.add(Flatten())\n",
    "    classifier.add(Dense(units = 128, activation = 'relu'))\n",
    "    classifier.add(Dense(units = 1, activation = 'sigmoid')) #'tanh'))\n",
    "    \n",
    "    classifier.compile(optimizer = optimizer, loss = loss, metrics = ['accuracy'])\n",
    "    \n",
    "    return classifier\n",
    "\n",
    "classifier = KerasClassifier(build_fn = build_classifier)\n",
    "\n",
    "grid_parameters = {'epochs': N_EPOCHS,\n",
    "                  'optimizer': OPTIMIZERS,\n",
    "                  'dropout': DROPOUT_RATES,                  \n",
    "                  'loss':LOSS_FUNCTIONS                        \n",
    "                  }\n",
    "\n",
    "\n",
    "grid_search = GridSearchCV(estimator = classifier,\n",
    "                           param_grid = grid_parameters,\n",
    "                           scoring = 'accuracy',\n",
    "                           cv = 2)\n",
    "\n",
    "\n",
    "grid_search = grid_search.fit(X_train, y_train)"
   ]
  },
  {
   "cell_type": "code",
   "execution_count": 37,
   "metadata": {},
   "outputs": [
    {
     "name": "stdout",
     "output_type": "stream",
     "text": [
      "{'dropout': 0.1, 'epochs': 20, 'loss': 'binary_crossentropy', 'optimizer': 'adam'}\n",
      "0.9711375212224108\n"
     ]
    }
   ],
   "source": [
    "best_parameters = grid_search.best_params_\n",
    "best_accuracy = grid_search.best_score_\n",
    "print(best_parameters)\n",
    "print(best_accuracy)"
   ]
  },
  {
   "cell_type": "code",
   "execution_count": 44,
   "metadata": {},
   "outputs": [],
   "source": [
    "predicted = grid_search.predict(X_test)"
   ]
  },
  {
   "cell_type": "code",
   "execution_count": 45,
   "metadata": {},
   "outputs": [
    {
     "name": "stdout",
     "output_type": "stream",
     "text": [
      "Confusion matrix for training set:\n",
      "[[2013   20]\n",
      " [   1  322]]\n"
     ]
    }
   ],
   "source": [
    "print('Confusion matrix for training set:')\n",
    "print(confusion_matrix(y_train,grid_search.predict(X_train)))"
   ]
  },
  {
   "cell_type": "code",
   "execution_count": 46,
   "metadata": {},
   "outputs": [
    {
     "name": "stdout",
     "output_type": "stream",
     "text": [
      "              precision    recall  f1-score   support\n",
      "\n",
      "         0.0       1.00      0.99      0.99      2033\n",
      "         1.0       0.94      1.00      0.97       323\n",
      "\n",
      "    accuracy                           0.99      2356\n",
      "   macro avg       0.97      0.99      0.98      2356\n",
      "weighted avg       0.99      0.99      0.99      2356\n",
      "\n"
     ]
    }
   ],
   "source": [
    "print(classification_report(y_train,grid_search.predict(X_train)))"
   ]
  },
  {
   "cell_type": "code",
   "execution_count": 47,
   "metadata": {},
   "outputs": [
    {
     "name": "stdout",
     "output_type": "stream",
     "text": [
      "Confusion matrix  for test set:\n",
      "[[501   7]\n",
      " [  1  79]]\n"
     ]
    }
   ],
   "source": [
    "print('Confusion matrix  for test set:')\n",
    "print(confusion_matrix(y_test,predicted))"
   ]
  },
  {
   "cell_type": "code",
   "execution_count": 48,
   "metadata": {},
   "outputs": [
    {
     "name": "stdout",
     "output_type": "stream",
     "text": [
      "              precision    recall  f1-score   support\n",
      "\n",
      "         0.0       1.00      0.99      0.99       508\n",
      "         1.0       0.92      0.99      0.95        80\n",
      "\n",
      "    accuracy                           0.99       588\n",
      "   macro avg       0.96      0.99      0.97       588\n",
      "weighted avg       0.99      0.99      0.99       588\n",
      "\n"
     ]
    }
   ],
   "source": [
    "print(classification_report(y_test,predicted))"
   ]
  },
  {
   "cell_type": "code",
   "execution_count": null,
   "metadata": {},
   "outputs": [],
   "source": [
    "e"
   ]
  }
 ],
 "metadata": {
  "kernelspec": {
   "display_name": "Python 3",
   "language": "python",
   "name": "python3"
  },
  "language_info": {
   "codemirror_mode": {
    "name": "ipython",
    "version": 3
   },
   "file_extension": ".py",
   "mimetype": "text/x-python",
   "name": "python",
   "nbconvert_exporter": "python",
   "pygments_lexer": "ipython3",
   "version": "3.6.10"
  }
 },
 "nbformat": 4,
 "nbformat_minor": 2
}
